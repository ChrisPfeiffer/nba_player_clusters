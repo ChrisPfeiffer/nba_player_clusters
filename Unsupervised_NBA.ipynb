{
 "cells": [
  {
   "cell_type": "code",
   "execution_count": 106,
   "metadata": {},
   "outputs": [],
   "source": [
    "import pandas as pd\n",
    "import numpy as np\n",
    "import matplotlib.pyplot as plt\n",
    "import seaborn as sns\n",
    "import os\n",
    "from os import path\n",
    "from sklearn.cluster import KMeans"
   ]
  },
  {
   "cell_type": "code",
   "execution_count": 107,
   "metadata": {},
   "outputs": [],
   "source": [
    "def get_dataset(filename):\n",
    "    dataset = pd.read_csv(os.path.join(\"data\", filename))\n",
    "    dataset.drop(index=0, inplace=True)\n",
    "    for c in dataset.columns:\n",
    "        if dataset[c].dtype == 'O':\n",
    "            dataset[c] = dataset[c].str.rstrip('%')\n",
    "        \n",
    "    return dataset"
   ]
  },
  {
   "cell_type": "code",
   "execution_count": 108,
   "metadata": {},
   "outputs": [
    {
     "data": {
      "text/html": [
       "<div>\n",
       "<style scoped>\n",
       "    .dataframe tbody tr th:only-of-type {\n",
       "        vertical-align: middle;\n",
       "    }\n",
       "\n",
       "    .dataframe tbody tr th {\n",
       "        vertical-align: top;\n",
       "    }\n",
       "\n",
       "    .dataframe thead th {\n",
       "        text-align: right;\n",
       "    }\n",
       "</style>\n",
       "<table border=\"1\" class=\"dataframe\">\n",
       "  <thead>\n",
       "    <tr style=\"text-align: right;\">\n",
       "      <th></th>\n",
       "      <th>Player</th>\n",
       "      <th>Age</th>\n",
       "      <th>Team</th>\n",
       "      <th>Pos</th>\n",
       "      <th>Min</th>\n",
       "      <th>Usage_rank</th>\n",
       "      <th>Usage</th>\n",
       "      <th>PSA_rank</th>\n",
       "      <th>PSA</th>\n",
       "      <th>AST_pct_rank</th>\n",
       "      <th>AST_pct</th>\n",
       "      <th>AST_usage_rank</th>\n",
       "      <th>AST_usg</th>\n",
       "      <th>TOV_pct_rank</th>\n",
       "      <th>TOV_pct</th>\n",
       "    </tr>\n",
       "  </thead>\n",
       "  <tbody>\n",
       "    <tr>\n",
       "      <th>1</th>\n",
       "      <td>Steven Adams</td>\n",
       "      <td>26.2</td>\n",
       "      <td>OKC</td>\n",
       "      <td>Big</td>\n",
       "      <td>1448.0</td>\n",
       "      <td>59</td>\n",
       "      <td>17.0</td>\n",
       "      <td>65</td>\n",
       "      <td>120.8</td>\n",
       "      <td>85</td>\n",
       "      <td>13.7</td>\n",
       "      <td>87</td>\n",
       "      <td>0.80</td>\n",
       "      <td>48</td>\n",
       "      <td>13.8</td>\n",
       "    </tr>\n",
       "    <tr>\n",
       "      <th>2</th>\n",
       "      <td>Bam Adebayo</td>\n",
       "      <td>22.2</td>\n",
       "      <td>MIA</td>\n",
       "      <td>Big</td>\n",
       "      <td>2035.0</td>\n",
       "      <td>85</td>\n",
       "      <td>21.4</td>\n",
       "      <td>66</td>\n",
       "      <td>121.2</td>\n",
       "      <td>99</td>\n",
       "      <td>22.8</td>\n",
       "      <td>98</td>\n",
       "      <td>1.07</td>\n",
       "      <td>17</td>\n",
       "      <td>16.8</td>\n",
       "    </tr>\n",
       "    <tr>\n",
       "      <th>3</th>\n",
       "      <td>LaMarcus Aldridge</td>\n",
       "      <td>34.2</td>\n",
       "      <td>SAS</td>\n",
       "      <td>Big</td>\n",
       "      <td>1706.0</td>\n",
       "      <td>88</td>\n",
       "      <td>22.4</td>\n",
       "      <td>49</td>\n",
       "      <td>116.0</td>\n",
       "      <td>77</td>\n",
       "      <td>11.9</td>\n",
       "      <td>43</td>\n",
       "      <td>0.53</td>\n",
       "      <td>92</td>\n",
       "      <td>8.4</td>\n",
       "    </tr>\n",
       "  </tbody>\n",
       "</table>\n",
       "</div>"
      ],
      "text/plain": [
       "              Player   Age Team  Pos     Min Usage_rank  Usage PSA_rank  \\\n",
       "1       Steven Adams  26.2  OKC  Big  1448.0         59   17.0       65   \n",
       "2        Bam Adebayo  22.2  MIA  Big  2035.0         85   21.4       66   \n",
       "3  LaMarcus Aldridge  34.2  SAS  Big  1706.0         88   22.4       49   \n",
       "\n",
       "     PSA AST_pct_rank  AST_pct AST_usage_rank AST_usg TOV_pct_rank TOV_pct  \n",
       "1  120.8           85     13.7             87    0.80           48    13.8  \n",
       "2  121.2           99     22.8             98    1.07           17    16.8  \n",
       "3  116.0           77     11.9             43    0.53           92     8.4  "
      ]
     },
     "execution_count": 108,
     "metadata": {},
     "output_type": "execute_result"
    }
   ],
   "source": [
    "off_overview = get_dataset(\"offensive_overview.csv\")\n",
    "off_overview.columns = ['Player', 'Age', 'Team', 'Pos', 'Min', \"Usage_rank\", 'Usage', 'PSA_rank', 'PSA', 'AST_pct_rank', 'AST_pct', 'AST_usage_rank', 'AST_usg', 'TOV_pct_rank', 'TOV_pct']\n",
    "convert_dict = {'AST_pct': float, 'Usage': float, 'PSA': float}\n",
    "off_overview = off_overview.astype(convert_dict)\n",
    "off_overview.head(3)"
   ]
  },
  {
   "cell_type": "code",
   "execution_count": 114,
   "metadata": {},
   "outputs": [],
   "source": [
    "def_reb = get_dataset(\"defense_and_rebounding.csv\")\n",
    "def_reb.columns = ['Player', 'Age', 'Team', 'Pos', 'Min', 'BLK_pct_rank', 'BLK_pct', 'STL_pct_rank', 'STL_pct', 'FOUL%_rank', 'FOUL_pct', 'fg_OR_pct_rank', 'fg_OR_pct', 'fg_DR_pct_rank', 'fg_DR_pct', 'ftor_pct_rank', 'ftor_pct', 'ft_dr_pct_rank', 'ft_dr_pct']\n",
    "def_reb.head(5)\n",
    "convert_dict = {'BLK_pct': float, 'fg_DR_pct': float, 'fg_OR_pct': float, 'STL_pct_rank': float}\n",
    "def_reb = def_reb.astype(convert_dict)"
   ]
  },
  {
   "cell_type": "markdown",
   "metadata": {},
   "source": [
    "For this first analysis, I only what bigs and point guards. Having very different player types will allow clusters of players to emerge (I think)."
   ]
  },
  {
   "cell_type": "code",
   "execution_count": 115,
   "metadata": {},
   "outputs": [
    {
     "data": {
      "text/plain": [
       "True"
      ]
     },
     "execution_count": 115,
     "metadata": {},
     "output_type": "execute_result"
    }
   ],
   "source": [
    "off_bigs_points = off_overview[off_overview.Pos.isin([\"Big\", \"Point\"])]\n",
    "def_reb_bigs_points = def_reb[def_reb.Pos.isin([\"Big\", \"Point\"])]\n",
    "len(off_bigs_points) == len(def_reb_bigs_points)"
   ]
  },
  {
   "cell_type": "code",
   "execution_count": 117,
   "metadata": {},
   "outputs": [
    {
     "data": {
      "text/html": [
       "<div>\n",
       "<style scoped>\n",
       "    .dataframe tbody tr th:only-of-type {\n",
       "        vertical-align: middle;\n",
       "    }\n",
       "\n",
       "    .dataframe tbody tr th {\n",
       "        vertical-align: top;\n",
       "    }\n",
       "\n",
       "    .dataframe thead th {\n",
       "        text-align: right;\n",
       "    }\n",
       "</style>\n",
       "<table border=\"1\" class=\"dataframe\">\n",
       "  <thead>\n",
       "    <tr style=\"text-align: right;\">\n",
       "      <th></th>\n",
       "      <th>Player</th>\n",
       "      <th>AST_pct</th>\n",
       "      <th>fg_DR_pct</th>\n",
       "      <th>Min_x</th>\n",
       "      <th>Pos_x</th>\n",
       "    </tr>\n",
       "  </thead>\n",
       "  <tbody>\n",
       "    <tr>\n",
       "      <th>0</th>\n",
       "      <td>Steven Adams</td>\n",
       "      <td>13.7</td>\n",
       "      <td>21.2</td>\n",
       "      <td>1448.0</td>\n",
       "      <td>Big</td>\n",
       "    </tr>\n",
       "    <tr>\n",
       "      <th>1</th>\n",
       "      <td>Bam Adebayo</td>\n",
       "      <td>22.8</td>\n",
       "      <td>21.3</td>\n",
       "      <td>2035.0</td>\n",
       "      <td>Big</td>\n",
       "    </tr>\n",
       "    <tr>\n",
       "      <th>2</th>\n",
       "      <td>LaMarcus Aldridge</td>\n",
       "      <td>11.9</td>\n",
       "      <td>16.3</td>\n",
       "      <td>1706.0</td>\n",
       "      <td>Big</td>\n",
       "    </tr>\n",
       "  </tbody>\n",
       "</table>\n",
       "</div>"
      ],
      "text/plain": [
       "              Player  AST_pct  fg_DR_pct   Min_x Pos_x\n",
       "0       Steven Adams     13.7       21.2  1448.0   Big\n",
       "1        Bam Adebayo     22.8       21.3  2035.0   Big\n",
       "2  LaMarcus Aldridge     11.9       16.3  1706.0   Big"
      ]
     },
     "execution_count": 117,
     "metadata": {},
     "output_type": "execute_result"
    }
   ],
   "source": [
    "off_and_def = off_bigs_points.merge(def_reb_bigs_points, on='Player')[['Player', 'AST_pct', 'fg_DR_pct', 'Min_x', 'Pos_x']]\n",
    "off_and_def = off_and_def[off_and_def.Min_x > 480]\n",
    "off_and_def.head(3)"
   ]
  },
  {
   "cell_type": "code",
   "execution_count": 118,
   "metadata": {},
   "outputs": [
    {
     "data": {
      "text/plain": [
       "<matplotlib.axes._subplots.AxesSubplot at 0x7fdf209b20f0>"
      ]
     },
     "execution_count": 118,
     "metadata": {},
     "output_type": "execute_result"
    },
    {
     "data": {
      "image/png": "[encoded data removed]",
      "text/plain": [
       "<Figure size 576x288 with 1 Axes>"
      ]
     },
     "metadata": {
      "needs_background": "light"
     },
     "output_type": "display_data"
    }
   ],
   "source": [
    "plt.figure(figsize=(8,4))\n",
    "sns.scatterplot(x='AST_pct', y='fg_DR_pct', data=off_and_def, hue='Pos_x')"
   ]
  },
  {
   "cell_type": "code",
   "execution_count": 119,
   "metadata": {},
   "outputs": [],
   "source": [
    "kmeans = KMeans(n_clusters=2, random_state=0).fit(off_and_def[['AST_pct', 'fg_DR_pct']])\n",
    "clusters = kmeans.predict(off_and_def[['AST_pct', 'fg_DR_pct']])"
   ]
  },
  {
   "cell_type": "code",
   "execution_count": 120,
   "metadata": {},
   "outputs": [],
   "source": [
    "off_and_def['cluster'] = clusters"
   ]
  },
  {
   "cell_type": "code",
   "execution_count": 121,
   "metadata": {},
   "outputs": [
    {
     "data": {
      "text/plain": [
       "<matplotlib.axes._subplots.AxesSubplot at 0x7fdf20b3f7f0>"
      ]
     },
     "execution_count": 121,
     "metadata": {},
     "output_type": "execute_result"
    },
    {
     "data": {
      "image/png": "[encoded data removed]",
      "text/plain": [
       "<Figure size 432x288 with 1 Axes>"
      ]
     },
     "metadata": {
      "needs_background": "light"
     },
     "output_type": "display_data"
    }
   ],
   "source": [
    "plt.cla()\n",
    "sns.scatterplot(x='AST_pct', y='fg_DR_pct', data=off_and_def, hue='Pos_x', style='cluster')"
   ]
  },
  {
   "cell_type": "code",
   "execution_count": 122,
   "metadata": {},
   "outputs": [
    {
     "data": {
      "text/html": [
       "<div>\n",
       "<style scoped>\n",
       "    .dataframe tbody tr th:only-of-type {\n",
       "        vertical-align: middle;\n",
       "    }\n",
       "\n",
       "    .dataframe tbody tr th {\n",
       "        vertical-align: top;\n",
       "    }\n",
       "\n",
       "    .dataframe thead th {\n",
       "        text-align: right;\n",
       "    }\n",
       "</style>\n",
       "<table border=\"1\" class=\"dataframe\">\n",
       "  <thead>\n",
       "    <tr style=\"text-align: right;\">\n",
       "      <th></th>\n",
       "      <th>Player</th>\n",
       "      <th>AST_pct</th>\n",
       "      <th>fg_DR_pct</th>\n",
       "      <th>Min_x</th>\n",
       "      <th>Pos_x</th>\n",
       "      <th>cluster</th>\n",
       "    </tr>\n",
       "  </thead>\n",
       "  <tbody>\n",
       "    <tr>\n",
       "      <th>1</th>\n",
       "      <td>Bam Adebayo</td>\n",
       "      <td>22.8</td>\n",
       "      <td>21.3</td>\n",
       "      <td>2035.0</td>\n",
       "      <td>Big</td>\n",
       "      <td>1</td>\n",
       "    </tr>\n",
       "    <tr>\n",
       "      <th>4</th>\n",
       "      <td>Giannis Antetokounmpo</td>\n",
       "      <td>33.0</td>\n",
       "      <td>29.3</td>\n",
       "      <td>1621.0</td>\n",
       "      <td>Big</td>\n",
       "      <td>1</td>\n",
       "    </tr>\n",
       "    <tr>\n",
       "      <th>106</th>\n",
       "      <td>Nikola Jokic</td>\n",
       "      <td>34.4</td>\n",
       "      <td>23.3</td>\n",
       "      <td>1896.0</td>\n",
       "      <td>Big</td>\n",
       "      <td>1</td>\n",
       "    </tr>\n",
       "  </tbody>\n",
       "</table>\n",
       "</div>"
      ],
      "text/plain": [
       "                    Player  AST_pct  fg_DR_pct   Min_x Pos_x  cluster\n",
       "1              Bam Adebayo     22.8       21.3  2035.0   Big        1\n",
       "4    Giannis Antetokounmpo     33.0       29.3  1621.0   Big        1\n",
       "106           Nikola Jokic     34.4       23.3  1896.0   Big        1"
      ]
     },
     "execution_count": 122,
     "metadata": {},
     "output_type": "execute_result"
    }
   ],
   "source": [
    "off_and_def[(off_and_def.Pos_x=='Big') & (off_and_def.cluster==1)]"
   ]
  },
  {
   "cell_type": "code",
   "execution_count": 123,
   "metadata": {},
   "outputs": [
    {
     "data": {
      "text/html": [
       "<div>\n",
       "<style scoped>\n",
       "    .dataframe tbody tr th:only-of-type {\n",
       "        vertical-align: middle;\n",
       "    }\n",
       "\n",
       "    .dataframe tbody tr th {\n",
       "        vertical-align: top;\n",
       "    }\n",
       "\n",
       "    .dataframe thead th {\n",
       "        text-align: right;\n",
       "    }\n",
       "</style>\n",
       "<table border=\"1\" class=\"dataframe\">\n",
       "  <thead>\n",
       "    <tr style=\"text-align: right;\">\n",
       "      <th></th>\n",
       "      <th>Player</th>\n",
       "      <th>AST_pct</th>\n",
       "      <th>fg_DR_pct</th>\n",
       "      <th>Min_x</th>\n",
       "      <th>Pos_x</th>\n",
       "      <th>cluster</th>\n",
       "    </tr>\n",
       "  </thead>\n",
       "  <tbody>\n",
       "    <tr>\n",
       "      <th>15</th>\n",
       "      <td>Patrick Beverley</td>\n",
       "      <td>18.3</td>\n",
       "      <td>15.1</td>\n",
       "      <td>1180.0</td>\n",
       "      <td>Point</td>\n",
       "      <td>0</td>\n",
       "    </tr>\n",
       "    <tr>\n",
       "      <th>99</th>\n",
       "      <td>Frank Jackson</td>\n",
       "      <td>8.5</td>\n",
       "      <td>6.5</td>\n",
       "      <td>530.0</td>\n",
       "      <td>Point</td>\n",
       "      <td>0</td>\n",
       "    </tr>\n",
       "    <tr>\n",
       "      <th>179</th>\n",
       "      <td>Collin Sexton</td>\n",
       "      <td>13.9</td>\n",
       "      <td>7.2</td>\n",
       "      <td>1890.0</td>\n",
       "      <td>Point</td>\n",
       "      <td>0</td>\n",
       "    </tr>\n",
       "  </tbody>\n",
       "</table>\n",
       "</div>"
      ],
      "text/plain": [
       "               Player  AST_pct  fg_DR_pct   Min_x  Pos_x  cluster\n",
       "15   Patrick Beverley     18.3       15.1  1180.0  Point        0\n",
       "99      Frank Jackson      8.5        6.5   530.0  Point        0\n",
       "179     Collin Sexton     13.9        7.2  1890.0  Point        0"
      ]
     },
     "execution_count": 123,
     "metadata": {},
     "output_type": "execute_result"
    }
   ],
   "source": [
    "off_and_def[(off_and_def.Pos_x=='Point') & (off_and_def.cluster==0)]"
   ]
  },
  {
   "cell_type": "markdown",
   "metadata": {},
   "source": [
    "Now going to pull in some more datasets to add more features and build clusters"
   ]
  },
  {
   "cell_type": "code",
   "execution_count": 136,
   "metadata": {},
   "outputs": [
    {
     "data": {
      "text/html": [
       "<div>\n",
       "<style scoped>\n",
       "    .dataframe tbody tr th:only-of-type {\n",
       "        vertical-align: middle;\n",
       "    }\n",
       "\n",
       "    .dataframe tbody tr th {\n",
       "        vertical-align: top;\n",
       "    }\n",
       "\n",
       "    .dataframe thead th {\n",
       "        text-align: right;\n",
       "    }\n",
       "</style>\n",
       "<table border=\"1\" class=\"dataframe\">\n",
       "  <thead>\n",
       "    <tr style=\"text-align: right;\">\n",
       "      <th></th>\n",
       "      <th>Player</th>\n",
       "      <th>Age</th>\n",
       "      <th>Team</th>\n",
       "      <th>Pos</th>\n",
       "      <th>MIN</th>\n",
       "      <th>efg_rank</th>\n",
       "      <th>efg</th>\n",
       "      <th>Rim_rank</th>\n",
       "      <th>Rim</th>\n",
       "      <th>Short_mid_rank</th>\n",
       "      <th>...</th>\n",
       "      <th>Long_mid</th>\n",
       "      <th>Long_mid_rank</th>\n",
       "      <th>All_mid_rank</th>\n",
       "      <th>All_mid</th>\n",
       "      <th>Corner_three_rank</th>\n",
       "      <th>Corner_three</th>\n",
       "      <th>Non_corner_three_rank</th>\n",
       "      <th>Non_corner_three</th>\n",
       "      <th>All_three_rank</th>\n",
       "      <th>All_three</th>\n",
       "    </tr>\n",
       "  </thead>\n",
       "  <tbody>\n",
       "    <tr>\n",
       "      <th>1</th>\n",
       "      <td>Steven Adams</td>\n",
       "      <td>26.2</td>\n",
       "      <td>OKC</td>\n",
       "      <td>Big</td>\n",
       "      <td>1475.0</td>\n",
       "      <td>71</td>\n",
       "      <td>58.9</td>\n",
       "      <td>72</td>\n",
       "      <td>62.0</td>\n",
       "      <td>99</td>\n",
       "      <td>...</td>\n",
       "      <td>14</td>\n",
       "      <td>1</td>\n",
       "      <td>82</td>\n",
       "      <td>37.0</td>\n",
       "      <td>17</td>\n",
       "      <td>0</td>\n",
       "      <td>0</td>\n",
       "      <td>0</td>\n",
       "      <td>10</td>\n",
       "      <td>0.0</td>\n",
       "    </tr>\n",
       "    <tr>\n",
       "      <th>2</th>\n",
       "      <td>Bam Adebayo</td>\n",
       "      <td>22.2</td>\n",
       "      <td>MIA</td>\n",
       "      <td>Big</td>\n",
       "      <td>2072.0</td>\n",
       "      <td>58</td>\n",
       "      <td>56.4</td>\n",
       "      <td>65</td>\n",
       "      <td>59.0</td>\n",
       "      <td>93</td>\n",
       "      <td>...</td>\n",
       "      <td>71</td>\n",
       "      <td>8</td>\n",
       "      <td>90</td>\n",
       "      <td>40.0</td>\n",
       "      <td>29</td>\n",
       "      <td>1</td>\n",
       "      <td>18</td>\n",
       "      <td>0</td>\n",
       "      <td>19</td>\n",
       "      <td>1.0</td>\n",
       "    </tr>\n",
       "    <tr>\n",
       "      <th>3</th>\n",
       "      <td>LaMarcus Aldridge</td>\n",
       "      <td>34.2</td>\n",
       "      <td>SAS</td>\n",
       "      <td>Big</td>\n",
       "      <td>1706.0</td>\n",
       "      <td>38</td>\n",
       "      <td>53.7</td>\n",
       "      <td>15</td>\n",
       "      <td>25.0</td>\n",
       "      <td>77</td>\n",
       "      <td>...</td>\n",
       "      <td>100</td>\n",
       "      <td>32</td>\n",
       "      <td>100</td>\n",
       "      <td>57.0</td>\n",
       "      <td>40</td>\n",
       "      <td>3</td>\n",
       "      <td>47</td>\n",
       "      <td>15</td>\n",
       "      <td>44</td>\n",
       "      <td>19.0</td>\n",
       "    </tr>\n",
       "  </tbody>\n",
       "</table>\n",
       "<p>3 rows × 21 columns</p>\n",
       "</div>"
      ],
      "text/plain": [
       "              Player   Age Team  Pos     MIN efg_rank   efg Rim_rank   Rim  \\\n",
       "1       Steven Adams  26.2  OKC  Big  1475.0       71  58.9       72  62.0   \n",
       "2        Bam Adebayo  22.2  MIA  Big  2072.0       58  56.4       65  59.0   \n",
       "3  LaMarcus Aldridge  34.2  SAS  Big  1706.0       38  53.7       15  25.0   \n",
       "\n",
       "  Short_mid_rank  ... Long_mid Long_mid_rank All_mid_rank All_mid  \\\n",
       "1             99  ...       14             1           82    37.0   \n",
       "2             93  ...       71             8           90    40.0   \n",
       "3             77  ...      100            32          100    57.0   \n",
       "\n",
       "   Corner_three_rank Corner_three Non_corner_three_rank Non_corner_three  \\\n",
       "1                 17            0                     0                0   \n",
       "2                 29            1                    18                0   \n",
       "3                 40            3                    47               15   \n",
       "\n",
       "  All_three_rank All_three  \n",
       "1             10       0.0  \n",
       "2             19       1.0  \n",
       "3             44      19.0  \n",
       "\n",
       "[3 rows x 21 columns]"
      ]
     },
     "execution_count": 136,
     "metadata": {},
     "output_type": "execute_result"
    }
   ],
   "source": [
    "shot_types = get_dataset(\"shot_types.csv\")\n",
    "shot_types.columns = ['Player', 'Age', 'Team', 'Pos', 'MIN', 'efg_rank', 'efg', 'Rim_rank', 'Rim', 'Short_mid_rank', 'Short_mid', 'Long_mid', 'Long_mid_rank', 'All_mid_rank', 'All_mid', 'Corner_three_rank', 'Corner_three', 'Non_corner_three_rank', 'Non_corner_three', 'All_three_rank', 'All_three']\n",
    "conversion_dict = {'All_mid': float, 'Rim': float, 'All_three': float}\n",
    "shot_types = shot_types.astype(conversion_dict)\n",
    "shot_types.head(3)"
   ]
  },
  {
   "cell_type": "code",
   "execution_count": 144,
   "metadata": {},
   "outputs": [
    {
     "data": {
      "text/html": [
       "<div>\n",
       "<style scoped>\n",
       "    .dataframe tbody tr th:only-of-type {\n",
       "        vertical-align: middle;\n",
       "    }\n",
       "\n",
       "    .dataframe tbody tr th {\n",
       "        vertical-align: top;\n",
       "    }\n",
       "\n",
       "    .dataframe thead th {\n",
       "        text-align: right;\n",
       "    }\n",
       "</style>\n",
       "<table border=\"1\" class=\"dataframe\">\n",
       "  <thead>\n",
       "    <tr style=\"text-align: right;\">\n",
       "      <th></th>\n",
       "      <th>Player</th>\n",
       "      <th>Age</th>\n",
       "      <th>Team</th>\n",
       "      <th>Pos</th>\n",
       "      <th>Min</th>\n",
       "      <th>FT_rank</th>\n",
       "      <th>FT_pct</th>\n",
       "      <th>SF_rank</th>\n",
       "      <th>SF_pct</th>\n",
       "      <th>FF_rank</th>\n",
       "      <th>FF_pct</th>\n",
       "      <th>And1_rank</th>\n",
       "      <th>And1_pct</th>\n",
       "    </tr>\n",
       "  </thead>\n",
       "  <tbody>\n",
       "    <tr>\n",
       "      <th>1</th>\n",
       "      <td>Tobias Harris</td>\n",
       "      <td>27.2</td>\n",
       "      <td>PHI</td>\n",
       "      <td>Forward</td>\n",
       "      <td>2135.0</td>\n",
       "      <td>62</td>\n",
       "      <td>80.0</td>\n",
       "      <td>41</td>\n",
       "      <td>8.3</td>\n",
       "      <td>47</td>\n",
       "      <td>0.9</td>\n",
       "      <td>73</td>\n",
       "      <td>29.1</td>\n",
       "    </tr>\n",
       "    <tr>\n",
       "      <th>2</th>\n",
       "      <td>Shai Gilgeous-Alexander</td>\n",
       "      <td>21.3</td>\n",
       "      <td>OKC</td>\n",
       "      <td>Wing</td>\n",
       "      <td>2130.0</td>\n",
       "      <td>55</td>\n",
       "      <td>80.7</td>\n",
       "      <td>85</td>\n",
       "      <td>12.5</td>\n",
       "      <td>95</td>\n",
       "      <td>2.8</td>\n",
       "      <td>63</td>\n",
       "      <td>25.2</td>\n",
       "    </tr>\n",
       "    <tr>\n",
       "      <th>3</th>\n",
       "      <td>Devin Booker</td>\n",
       "      <td>23.0</td>\n",
       "      <td>PHX</td>\n",
       "      <td>Wing</td>\n",
       "      <td>2115.0</td>\n",
       "      <td>97</td>\n",
       "      <td>91.6</td>\n",
       "      <td>86</td>\n",
       "      <td>12.7</td>\n",
       "      <td>100</td>\n",
       "      <td>4.0</td>\n",
       "      <td>26</td>\n",
       "      <td>16.9</td>\n",
       "    </tr>\n",
       "  </tbody>\n",
       "</table>\n",
       "</div>"
      ],
      "text/plain": [
       "                    Player   Age Team      Pos     Min FT_rank  FT_pct  \\\n",
       "1            Tobias Harris  27.2  PHI  Forward  2135.0      62    80.0   \n",
       "2  Shai Gilgeous-Alexander  21.3  OKC     Wing  2130.0      55    80.7   \n",
       "3             Devin Booker  23.0  PHX     Wing  2115.0      97    91.6   \n",
       "\n",
       "  SF_rank  SF_pct FF_rank FF_pct And1_rank And1_pct  \n",
       "1      41     8.3      47    0.9        73     29.1  \n",
       "2      85    12.5      95    2.8        63     25.2  \n",
       "3      86    12.7     100    4.0        26     16.9  "
      ]
     },
     "execution_count": 144,
     "metadata": {},
     "output_type": "execute_result"
    }
   ],
   "source": [
    "foul_drawing = get_dataset(\"foul_drawing.csv\")\n",
    "foul_drawing.columns = [\"Player\", \"Age\", \"Team\", \"Pos\", \"Min\", \"FT_rank\", \"FT_pct\", 'SF_rank', 'SF_pct', 'FF_rank', 'FF_pct', 'And1_rank', 'And1_pct']\n",
    "conversion_dict = {\"FT_pct\": float, \"SF_pct\": float}\n",
    "foul_drawing = foul_drawing.astype(conversion_dict)\n",
    "foul_drawing.head(3)"
   ]
  },
  {
   "cell_type": "markdown",
   "metadata": {},
   "source": [
    "I am going to build up one dataframe that includes one row per player along with each column I want to use for clustering."
   ]
  },
  {
   "cell_type": "code",
   "execution_count": 169,
   "metadata": {},
   "outputs": [],
   "source": [
    "kmeans_data = off_overview[['Player', 'Pos', 'Min', 'Usage', 'AST_pct', 'PSA']]\n",
    "kmeans_data = kmeans_data.merge(def_reb[['Player','BLK_pct', 'STL_pct', 'fg_OR_pct', 'fg_DR_pct']], on='Player')\n",
    "foul_drawing.head(3)\n",
    "kmeans_data = kmeans_data.merge(foul_drawing[['Player', 'FT_pct', 'SF_pct']], on='Player')\n",
    "kmeans_data = kmeans_data.merge(shot_types[['Player', 'Rim', 'All_mid', 'All_three']], on='Player')"
   ]
  },
  {
   "cell_type": "code",
   "execution_count": null,
   "metadata": {},
   "outputs": [],
   "source": []
  }
 ],
 "metadata": {
  "kernelspec": {
   "display_name": "Python 3",
   "language": "python",
   "name": "python3"
  },
  "language_info": {
   "codemirror_mode": {
    "name": "ipython",
    "version": 3
   },
   "file_extension": ".py",
   "mimetype": "text/x-python",
   "name": "python",
   "nbconvert_exporter": "python",
   "pygments_lexer": "ipython3",
   "version": "3.7.3"
  }
 },
 "nbformat": 4,
 "nbformat_minor": 2
}
